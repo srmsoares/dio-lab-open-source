#*******************************************************************************
#
# Autor: Maicon Soares
#
# Crie um programa que simule um caixa eletrônico, informando a quantidade de
# notas de 1, 5, 10, 100 e 200 reais que o usuário pode sacar, com base no
# valor digitado. O valor deve ser um número inteiro entre 10 e 1500 reais.
# O programa deve calcular o número de notas começando pela nota de maior
# valor, dividindo o valor total pela maior nota e verificando o resto.
# Crie um array para armazenar o número de notas e o valor da nota. Repita
# o processo para os demais valores de notas disponíveis até que o resto da
# divisão seja 0.
#
#*******************************************************************************

def SacarNotas(valor):
  notas = []
  valoresNotas = [200, 100, 50, 10, 5, 1]

  for valorNota in valoresNotas:
    quantidadeNotas = valor // valorNota
    if quantidadeNotas > 0:
      notas.append((quantidadeNotas, valorNota))
      valor = valor % valorNota

  return notas

while True:
  try:
    valorSaque = int(input("Digite o valor do saque (entre R$ 10 e R$ 1500): R$"))
    if valorSaque < 10 or valorSaque > 1500:
      raise ValueError("Valor inválido. O valor do saque deve estar entre R$ 10 e R$ 1500.")
    break
  except ValueError as e:
    print("Valor informado inválido. Digite um número inteiro entre R$ 10 e R$ 1500")

notasSacadas = SacarNotas(valorSaque)

print(f"Para sacar o valor de R$ {valorSaque}, você receberá:")
for quantidade, valor in notasSacadas:
  print(f"{quantidade} nota(s) de R$ {valor}")

totalSacado = sum(quantidade * valor for quantidade, valor in notasSacadas)
print(f"Total sacado: R$ {totalSacado}")
